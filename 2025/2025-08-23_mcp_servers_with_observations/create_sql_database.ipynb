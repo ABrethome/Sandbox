{
 "cells": [
  {
   "cell_type": "markdown",
   "id": "a13f097c",
   "metadata": {},
   "source": [
    "# Create a fake SQL database"
   ]
  },
  {
   "cell_type": "markdown",
   "id": "16bc524f",
   "metadata": {},
   "source": [
    "Let's assume our company needs an agent to query data from a SQL database, and be able to display the observations as sources where trust is paramount.\n",
    "We are going to create a fake dataset, which a company could have such as a customer database."
   ]
  },
  {
   "cell_type": "code",
   "execution_count": null,
   "id": "0436ace0",
   "metadata": {},
   "outputs": [],
   "source": [
    "db_path = \"~/localfiles/databases/data-customer.db\""
   ]
  },
  {
   "cell_type": "code",
   "execution_count": null,
   "id": "c7a4f78a",
   "metadata": {},
   "outputs": [],
   "source": [
    "import pandas as pd\n",
    "\n",
    "customer_data = {\n",
    "    \"CustomerID\": range(1, 11),\n",
    "    \"Name\": [\"Alice\", \"Bob\", \"Charlie\", \"David\", \"Eva\", \"Frank\", \"Grace\", \"Helen\", \"Ian\", \"Julia\"],\n",
    "    \"Age\": [25, 34, 28, 45, 32, 41, 29, 38, 27, 36],\n",
    "    \"Email\": [\n",
    "        \"alice@example.com\", \"bob@example.com\", \"charlie@example.com\", \"david@example.com\",\n",
    "        \"eva@example.com\", \"frank@example.com\", \"grace@example.com\", \"helen@example.com\",\n",
    "        \"ian@example.com\", \"julia@example.com\"\n",
    "    ],\n",
    "    \"Country\": [\"USA\", \"Canada\", \"UK\", \"Germany\", \"France\", \"Italy\", \"Spain\", \"Australia\", \"Japan\", \"Brazil\"]\n",
    "}\n",
    "customer_df = pd.DataFrame(customer_data)\n"
   ]
  },
  {
   "cell_type": "code",
   "execution_count": null,
   "id": "b3efd5ff",
   "metadata": {},
   "outputs": [],
   "source": [
    "from sqlalchemy import create_engine\n",
    "import os\n",
    "\n",
    "if not os.path.exists(db_path):\n",
    "    eng = create_engine(f\"duckdb:///{db_path}\")\n",
    "    with eng.connect() as conn:\n",
    "        customer_df.to_sql('CUSTOMERS', conn, if_exists='replace', index=False)"
   ]
  },
  {
   "cell_type": "markdown",
   "id": "18390140",
   "metadata": {},
   "source": [
    "Let's check the SQL database:"
   ]
  },
  {
   "cell_type": "code",
   "execution_count": null,
   "id": "b33b5ba3",
   "metadata": {},
   "outputs": [],
   "source": [
    "from sqlalchemy import text\n",
    "eng = create_engine(f\"duckdb:///{db_path}\")\n",
    "with eng.connect() as conn:\n",
    "    # Example query\n",
    "    result = conn.execute(text(\"SELECT * FROM information_schema.tables\")).fetchall()\n",
    "\n",
    "print(result)"
   ]
  },
  {
   "cell_type": "code",
   "execution_count": null,
   "id": "0e83f95b",
   "metadata": {},
   "outputs": [],
   "source": [
    "conn.close()\n",
    "eng.dispose()"
   ]
  }
 ],
 "metadata": {
  "kernelspec": {
   "display_name": "sandbox",
   "language": "python",
   "name": "python3"
  },
  "language_info": {
   "codemirror_mode": {
    "name": "ipython",
    "version": 3
   },
   "file_extension": ".py",
   "mimetype": "text/x-python",
   "name": "python",
   "nbconvert_exporter": "python",
   "pygments_lexer": "ipython3",
   "version": "3.12.12"
  }
 },
 "nbformat": 4,
 "nbformat_minor": 5
}
